{
 "cells": [
  {
   "cell_type": "code",
   "execution_count": 37,
   "metadata": {
    "collapsed": false
   },
   "outputs": [],
   "source": [
    "rr = [0,1,2]\n",
    "cc = [0,1,2]\n",
    "buttonsgrid = {}\n",
    "buttonspack = {}\n",
    "verb_dict = {'invest':{'TSLA',\n",
    "                       'BTC'}, \n",
    "             'run':{'Tues',\n",
    "                    '5 miles'},\n",
    "             'write':{'abstract': {'300 words', \n",
    "                                   'Wed'},\n",
    "                      'manuscript':{'methods',\n",
    "                                    'intro',\n",
    "                                    'results',\n",
    "                                    'discussion'}},\n",
    "             'code':{'experiment',\n",
    "                     'button factory'},\n",
    "             'eat':{'buy': {'eggs',\n",
    "                            'milk'},\n",
    "                    'cook':{'ziti', \n",
    "                            'steaks'}},\n",
    "             'play':{'ukulele',\n",
    "                     'heros'}}\n",
    "task_list = list(verb_dict.keys())\n",
    "subtask_dict = dict(verb_dict.values())\n",
    "subtask_list = list(subtask_dict.keys())\n",
    "#print(subtask_list_from_verb_dict)\n",
    "#for verb in task_list_from_verb_dict:\n",
    "#    print(subtask_list_from_verb_dict[verb])\n",
    "#lookup_subtask_by_verbs_list = {'TSLA', 'BTC','AAPL','LTC'}\n",
    "for x in task_list:\n",
    "    rowloc = r\n",
    "    buttonspack['{0}'.format(x)]={'fill': 'X'}\n",
    "    for c in cc:\n",
    "        columnloc = c\n",
    "        for z in lookup_subtask_by_verbs_list:\n",
    "            buttonsgrid['{0}'.format(z)]={'sticky': 'W+E+N+S', 'row': rowloc, 'column': columnloc, 'padx': 1, 'pady': 1}"
   ]
  },
  {
   "cell_type": "code",
   "execution_count": 38,
   "metadata": {
    "collapsed": false
   },
   "outputs": [
    {
     "data": {
      "text/plain": [
       "{'AAPL': {'column': 2, 'padx': 1, 'pady': 1, 'row': 2, 'sticky': 'W+E+N+S'},\n",
       " 'BTC': {'column': 2, 'padx': 1, 'pady': 1, 'row': 2, 'sticky': 'W+E+N+S'},\n",
       " 'LTC': {'column': 2, 'padx': 1, 'pady': 1, 'row': 2, 'sticky': 'W+E+N+S'},\n",
       " 'TSLA': {'column': 2, 'padx': 1, 'pady': 1, 'row': 2, 'sticky': 'W+E+N+S'}}"
      ]
     },
     "execution_count": 38,
     "metadata": {},
     "output_type": "execute_result"
    }
   ],
   "source": [
    "buttonsgrid"
   ]
  },
  {
   "cell_type": "code",
   "execution_count": 39,
   "metadata": {
    "collapsed": false
   },
   "outputs": [
    {
     "name": "stdout",
     "output_type": "stream",
     "text": [
      "{'experiment', 'button factory'}\n",
      "{'buy': {'eggs', 'milk'}, 'cook': {'steaks', 'ziti'}}\n",
      "{'ukulele', 'heros'}\n",
      "{'manuscript': {'intro', 'results', 'discussion', 'methods'}, 'abstract': {'300 words', 'Wed'}}\n",
      "{'Tues', '5 miles'}\n",
      "{'BTC', 'TSLA'}\n"
     ]
    }
   ],
   "source": [
    "for verb in task_list_from_verb_dict:\n",
    "    g=lookup_task_by_verbs_dict[verb]\n",
    "    print(g)"
   ]
  },
  {
   "cell_type": "code",
   "execution_count": null,
   "metadata": {
    "collapsed": true
   },
   "outputs": [],
   "source": []
  }
 ],
 "metadata": {
  "kernelspec": {
   "display_name": "Python 3",
   "language": "python",
   "name": "python3"
  },
  "language_info": {
   "codemirror_mode": {
    "name": "ipython",
    "version": 3
   },
   "file_extension": ".py",
   "mimetype": "text/x-python",
   "name": "python",
   "nbconvert_exporter": "python",
   "pygments_lexer": "ipython3",
   "version": "3.5.1"
  }
 },
 "nbformat": 4,
 "nbformat_minor": 0
}
