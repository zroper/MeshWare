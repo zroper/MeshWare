{
 "cells": [
  {
   "cell_type": "code",
   "execution_count": 6,
   "metadata": {
    "collapsed": false
   },
   "outputs": [
    {
     "name": "stdout",
     "output_type": "stream",
     "text": [
      "Quack!\n",
      "Waddle!\n"
     ]
    }
   ],
   "source": [
    "class Duck:\n",
    "    def quack(self):\n",
    "        print('Quack!')\n",
    "    def walk(self):\n",
    "        print('Waddle!')\n",
    "def main():\n",
    "    donald = Duck()\n",
    "    donald.quack()\n",
    "    donald.walk()\n",
    "if __name__ == \"__main__\": main()"
   ]
  },
  {
   "cell_type": "code",
   "execution_count": 10,
   "metadata": {
    "collapsed": false
   },
   "outputs": [
    {
     "name": "stdout",
     "output_type": "stream",
     "text": [
      "Quack! 55\n",
      "Waddle! 55\n"
     ]
    }
   ],
   "source": [
    "class Duck:\n",
    "    def __init__(self, value):\n",
    "        self._v = value\n",
    "    def quack(self):\n",
    "        print('Quack!', self._v)\n",
    "    def walk(self):\n",
    "        print('Waddle!', self._v)\n",
    "def main():\n",
    "    donald = Duck(55)\n",
    "    donald.quack()\n",
    "    donald.walk()\n",
    "if __name__ == \"__main__\": main()"
   ]
  },
  {
   "cell_type": "code",
   "execution_count": 29,
   "metadata": {
    "collapsed": true
   },
   "outputs": [],
   "source": [
    "buttonframespack={}\n",
    "for x in range(0,4):\n",
    "        buttonframespack['Frame{0}'.format(x)]={'fill': X}"
   ]
  },
  {
   "cell_type": "code",
   "execution_count": 12,
   "metadata": {
    "collapsed": false
   },
   "outputs": [
    {
     "data": {
      "text/plain": [
       "{'string1': 'Hello',\n",
       " 'string2': 'Hello',\n",
       " 'string3': 'Hello',\n",
       " 'string4': 'Hello',\n",
       " 'string5': 'Hello',\n",
       " 'string6': 'Hello',\n",
       " 'string7': 'Hello',\n",
       " 'string8': 'Hello',\n",
       " 'string9': 'Hello'}"
      ]
     },
     "execution_count": 12,
     "metadata": {},
     "output_type": "execute_result"
    }
   ],
   "source": [
    "d"
   ]
  },
  {
   "cell_type": "code",
   "execution_count": 27,
   "metadata": {
    "collapsed": false
   },
   "outputs": [],
   "source": [
    "buttonframespack = {'Frame1': {'fill': X}, 'Frame2': {'fill': X}, 'Frame3': {'fill': X},'Frame4': {'fill': X}}"
   ]
  },
  {
   "cell_type": "code",
   "execution_count": 16,
   "metadata": {
    "collapsed": true
   },
   "outputs": [],
   "source": [
    "X=5"
   ]
  },
  {
   "cell_type": "code",
   "execution_count": 30,
   "metadata": {
    "collapsed": false
   },
   "outputs": [
    {
     "data": {
      "text/plain": [
       "{'Frame0': {'fill': 5},\n",
       " 'Frame1': {'fill': 5},\n",
       " 'Frame2': {'fill': 5},\n",
       " 'Frame3': {'fill': 5}}"
      ]
     },
     "execution_count": 30,
     "metadata": {},
     "output_type": "execute_result"
    }
   ],
   "source": [
    "buttonframespack"
   ]
  },
  {
   "cell_type": "code",
   "execution_count": 31,
   "metadata": {
    "collapsed": false
   },
   "outputs": [
    {
     "data": {
      "text/plain": [
       "{'calculate', 'invest', 'run', 'write'}"
      ]
     },
     "execution_count": 31,
     "metadata": {},
     "output_type": "execute_result"
    }
   ],
   "source": [
    "lookup_task_by_verbs_list = {'invest','run','write','calculate'}\n",
    "lookup_task_by_verbs_list"
   ]
  },
  {
   "cell_type": "code",
   "execution_count": 32,
   "metadata": {
    "collapsed": false
   },
   "outputs": [
    {
     "ename": "TypeError",
     "evalue": "'set' object does not support item assignment",
     "output_type": "error",
     "traceback": [
      "\u001b[1;31m---------------------------------------------------------------------------\u001b[0m",
      "\u001b[1;31mTypeError\u001b[0m                                 Traceback (most recent call last)",
      "\u001b[1;32m<ipython-input-32-3c565f081995>\u001b[0m in \u001b[0;36m<module>\u001b[1;34m()\u001b[0m\n\u001b[1;32m----> 1\u001b[1;33m \u001b[0mlookup_task_by_verbs_list\u001b[0m\u001b[1;33m[\u001b[0m\u001b[1;34m'invest'\u001b[0m\u001b[1;33m]\u001b[0m\u001b[1;33m=\u001b[0m\u001b[1;33m(\u001b[0m\u001b[1;34m'TSLA'\u001b[0m\u001b[1;33m,\u001b[0m\u001b[1;34m'BTC'\u001b[0m\u001b[1;33m)\u001b[0m\u001b[1;33m\u001b[0m\u001b[0m\n\u001b[0m",
      "\u001b[1;31mTypeError\u001b[0m: 'set' object does not support item assignment"
     ]
    }
   ],
   "source": [
    "lookup_task_by_verbs_list['invest']=('TSLA','BTC')"
   ]
  },
  {
   "cell_type": "code",
   "execution_count": 43,
   "metadata": {
    "collapsed": false
   },
   "outputs": [],
   "source": [
    "lookup_task_by_verbs_list = {'invest','run','write','calculate'}\n",
    "numb = 4\n",
    "buttonspack = {}\n",
    "for x in lookup_task_by_verbs_list:\n",
    "    buttonspack['{0}'.format(x)]={'fill': X}"
   ]
  },
  {
   "cell_type": "code",
   "execution_count": 44,
   "metadata": {
    "collapsed": false
   },
   "outputs": [
    {
     "data": {
      "text/plain": [
       "{'calculate': {'fill': 5},\n",
       " 'invest': {'fill': 5},\n",
       " 'run': {'fill': 5},\n",
       " 'write': {'fill': 5}}"
      ]
     },
     "execution_count": 44,
     "metadata": {},
     "output_type": "execute_result"
    }
   ],
   "source": [
    "buttonspack"
   ]
  },
  {
   "cell_type": "code",
   "execution_count": 54,
   "metadata": {
    "collapsed": false
   },
   "outputs": [
    {
     "data": {
      "text/plain": [
       "{'calculate': {'fill': 'calculate', 'side': 'TOP'},\n",
       " 'eat': {'fill': 'eat', 'side': 'TOP'},\n",
       " 'invest': {'fill': 'invest', 'side': 'TOP'},\n",
       " 'play': {'fill': 'play', 'side': 'TOP'},\n",
       " 'run': {'fill': 'run', 'side': 'TOP'},\n",
       " 'write': {'fill': 'write', 'side': 'TOP'}}"
      ]
     },
     "execution_count": 54,
     "metadata": {},
     "output_type": "execute_result"
    }
   ],
   "source": [
    "buttonspack = {}\n",
    "lookup_task_by_verbs_list = {'invest','run','write','calculate','eat','play'}\n",
    "for x in lookup_task_by_verbs_list:\n",
    "    buttonspack['{0}'.format(x)]={'fill': x, 'side': 'TOP'}\n",
    "buttonspack    "
   ]
  },
  {
   "cell_type": "code",
   "execution_count": 49,
   "metadata": {
    "collapsed": false
   },
   "outputs": [
    {
     "name": "stdout",
     "output_type": "stream",
     "text": [
      "calculate\n",
      "eat\n",
      "write\n",
      "run\n",
      "invest\n",
      "play\n"
     ]
    }
   ],
   "source": [
    "for key in buttonspack.keys():\n",
    "    print(key)"
   ]
  },
  {
   "cell_type": "code",
   "execution_count": 56,
   "metadata": {
    "collapsed": false
   },
   "outputs": [
    {
     "ename": "NameError",
     "evalue": "name 'buttonsgrid' is not defined",
     "output_type": "error",
     "traceback": [
      "\u001b[1;31m---------------------------------------------------------------------------\u001b[0m",
      "\u001b[1;31mNameError\u001b[0m                                 Traceback (most recent call last)",
      "\u001b[1;32m<ipython-input-56-12883fb616e5>\u001b[0m in \u001b[0;36m<module>\u001b[1;34m()\u001b[0m\n\u001b[0;32m      1\u001b[0m \u001b[1;32mfor\u001b[0m \u001b[0mx\u001b[0m \u001b[1;32min\u001b[0m \u001b[0mlookup_task_by_verbs_list\u001b[0m\u001b[1;33m:\u001b[0m\u001b[1;33m\u001b[0m\u001b[0m\n\u001b[0;32m      2\u001b[0m     \u001b[1;32mfor\u001b[0m \u001b[0mtt\u001b[0m \u001b[1;32min\u001b[0m \u001b[0mrange\u001b[0m\u001b[1;33m(\u001b[0m\u001b[1;36m0\u001b[0m\u001b[1;33m,\u001b[0m\u001b[1;36m3\u001b[0m\u001b[1;33m)\u001b[0m\u001b[1;33m:\u001b[0m\u001b[1;33m\u001b[0m\u001b[0m\n\u001b[1;32m----> 3\u001b[1;33m         \u001b[0mbuttonsgrid\u001b[0m\u001b[1;33m[\u001b[0m\u001b[1;34m'{0}'\u001b[0m\u001b[1;33m.\u001b[0m\u001b[0mformat\u001b[0m\u001b[1;33m(\u001b[0m\u001b[0mx\u001b[0m\u001b[1;33m)\u001b[0m\u001b[1;33m]\u001b[0m\u001b[1;33m=\u001b[0m\u001b[1;33m{\u001b[0m\u001b[1;34m'stick'\u001b[0m\u001b[1;33m:\u001b[0m \u001b[1;34m'ss'\u001b[0m\u001b[1;33m,\u001b[0m \u001b[1;34m'row'\u001b[0m\u001b[1;33m:\u001b[0m \u001b[0mtt\u001b[0m\u001b[1;33m,\u001b[0m \u001b[1;34m'column'\u001b[0m\u001b[1;33m:\u001b[0m \u001b[1;36m0\u001b[0m\u001b[1;33m,\u001b[0m \u001b[1;34m'padx'\u001b[0m\u001b[1;33m:\u001b[0m \u001b[1;36m1\u001b[0m\u001b[1;33m,\u001b[0m \u001b[1;34m'pady'\u001b[0m\u001b[1;33m:\u001b[0m \u001b[1;36m1\u001b[0m\u001b[1;33m}\u001b[0m\u001b[1;33m\u001b[0m\u001b[0m\n\u001b[0m",
      "\u001b[1;31mNameError\u001b[0m: name 'buttonsgrid' is not defined"
     ]
    }
   ],
   "source": [
    "for x in lookup_task_by_verbs_list:\n",
    "    for tt in range(0,3):\n",
    "        buttonsgrid['{0}'.format(x)]={'stick': 'ss', 'row': tt, 'column': 0, 'padx': 1, 'pady': 1}"
   ]
  },
  {
   "cell_type": "code",
   "execution_count": 57,
   "metadata": {
    "collapsed": true
   },
   "outputs": [],
   "source": [
    "## take input verbs from user\n",
    "## add to dict if not already there ###make a checkbox to add\n",
    "\n",
    "## TASKS LOOKUP FEATURE\n",
    "## take input verbs from user\n",
    "## cross reference those verbs in verb_dict\n",
    "## copy subtasks into working dict\n",
    "\n",
    "## GENERATE TASKS BUTTON ARRAY \n",
    "## load tasks as dict from working dict\n",
    "## generate task buttons from dict keys\n",
    "## pack task buttons into task button frame\n",
    "## generate subtask buttons from dict values\n",
    "## grid subtask buttons in to subtask frame"
   ]
  },
  {
   "cell_type": "code",
   "execution_count": 126,
   "metadata": {
    "collapsed": false
   },
   "outputs": [],
   "source": [
    "rr = [0,1,2]\n",
    "cc = [0,1,2]\n",
    "buttonsgrid = {}\n",
    "buttonspack = {}\n",
    "lookup_task_by_verbs_dict = {'invest':('TSLA','BTC'), \n",
    "                             'run':('TSLA','BTC'),\n",
    "                             'write':('TSLA','BTC'),\n",
    "                             'calculate':('TSLA','BTC'),\n",
    "                             'eat':('TSLA','BTC'),\n",
    "                             'play':('TSLA','BTC')}\n",
    "task_list_from_verb_dict = list(lookup_task_by_verbs_dict.keys())\n",
    "lookup_subtask_by_verbs_list = {'TSLA', 'BTC','AAPL','LTC'}\n",
    "for r in rr:\n",
    "    for x in lookup_task_by_verbs_dict:\n",
    "        rowloc = r\n",
    "        buttonspack['{0}'.format(x)]={'fill': X}\n",
    "        for c in cc:\n",
    "            columnloc = c\n",
    "            for z in lookup_subtask_by_verbs_list:\n",
    "                buttonsgrid['{0}'.format(z)]={'stick': 'W+E+N+S', 'row': rowloc, 'column': columnloc, 'padx': 1, 'pady': 1}"
   ]
  },
  {
   "cell_type": "code",
   "execution_count": 122,
   "metadata": {
    "collapsed": false
   },
   "outputs": [
    {
     "name": "stdout",
     "output_type": "stream",
     "text": [
      "LTC {'pady': 1, 'column': 2, 'row': 2, 'padx': 1, 'stick': 'W+E+N+S'}\n",
      "TSLA {'pady': 1, 'column': 2, 'row': 2, 'padx': 1, 'stick': 'W+E+N+S'}\n",
      "BTC {'pady': 1, 'column': 2, 'row': 2, 'padx': 1, 'stick': 'W+E+N+S'}\n",
      "AAPL {'pady': 1, 'column': 2, 'row': 2, 'padx': 1, 'stick': 'W+E+N+S'}\n"
     ]
    }
   ],
   "source": [
    "for key, value in buttonsgrid.items():\n",
    "    print(key, value)"
   ]
  },
  {
   "cell_type": "code",
   "execution_count": 123,
   "metadata": {
    "collapsed": false
   },
   "outputs": [
    {
     "name": "stdout",
     "output_type": "stream",
     "text": [
      "calculate {'fill': 5}\n",
      "eat {'fill': 5}\n",
      "write {'fill': 5}\n",
      "run {'fill': 5}\n",
      "invest {'fill': 5}\n",
      "play {'fill': 5}\n"
     ]
    }
   ],
   "source": [
    "for key, value in buttonspack.items():\n",
    "    print(key, value)"
   ]
  },
  {
   "cell_type": "code",
   "execution_count": 132,
   "metadata": {
    "collapsed": false
   },
   "outputs": [
    {
     "name": "stdout",
     "output_type": "stream",
     "text": [
      "calculate\n",
      "eat\n",
      "write\n",
      "run\n",
      "invest\n",
      "play\n"
     ]
    }
   ],
   "source": [
    "for value in task_list_from_verb_dict:\n",
    "    print(value)"
   ]
  },
  {
   "cell_type": "code",
   "execution_count": 68,
   "metadata": {
    "collapsed": false
   },
   "outputs": [
    {
     "data": {
      "text/plain": [
       "[1, 2, 3]"
      ]
     },
     "execution_count": 68,
     "metadata": {},
     "output_type": "execute_result"
    }
   ],
   "source": [
    "r = [1,2,3]\n",
    "r"
   ]
  },
  {
   "cell_type": "code",
   "execution_count": 80,
   "metadata": {
    "collapsed": false
   },
   "outputs": [],
   "source": [
    "rr = range(0,6)"
   ]
  },
  {
   "cell_type": "code",
   "execution_count": 82,
   "metadata": {
    "collapsed": false
   },
   "outputs": [
    {
     "data": {
      "text/plain": [
       "range(0, 6)"
      ]
     },
     "execution_count": 82,
     "metadata": {},
     "output_type": "execute_result"
    }
   ],
   "source": [
    "range(0,6)"
   ]
  },
  {
   "cell_type": "code",
   "execution_count": 83,
   "metadata": {
    "collapsed": false
   },
   "outputs": [
    {
     "ename": "IndentationError",
     "evalue": "unexpected indent (<ipython-input-83-76a76d2cb70a>, line 2)",
     "output_type": "error",
     "traceback": [
      "\u001b[1;36m  File \u001b[1;32m\"<ipython-input-83-76a76d2cb70a>\"\u001b[1;36m, line \u001b[1;32m2\u001b[0m\n\u001b[1;33m    cc = [0,1,2,3,4,5,6]\u001b[0m\n\u001b[1;37m    ^\u001b[0m\n\u001b[1;31mIndentationError\u001b[0m\u001b[1;31m:\u001b[0m unexpected indent\n"
     ]
    }
   ],
   "source": [
    "rr = [0,1,2,3,4,5,6]\n",
    "cc = [0,1,2,3,4,5,6]\n",
    "for x in lookup_task_by_verbs_list:\n",
    "    rowloc = rr[0]\n",
    "    columnloc = cc[0]\n",
    "    buttonsgrid['{0}'.format(x)]={'stick': W+E+N+S, 'row': rowloc, 'column': columnloc, 'padx': 1, 'pady': 1}"
   ]
  },
  {
   "cell_type": "code",
   "execution_count": 124,
   "metadata": {
    "collapsed": false
   },
   "outputs": [
    {
     "data": {
      "text/plain": [
       "['LTC', 'TSLA', 'BTC', 'AAPL']"
      ]
     },
     "execution_count": 124,
     "metadata": {},
     "output_type": "execute_result"
    }
   ],
   "source": [
    "list(buttonsgrid.keys())"
   ]
  },
  {
   "cell_type": "code",
   "execution_count": null,
   "metadata": {
    "collapsed": true
   },
   "outputs": [],
   "source": []
  }
 ],
 "metadata": {
  "kernelspec": {
   "display_name": "Python 3",
   "language": "python",
   "name": "python3"
  },
  "language_info": {
   "codemirror_mode": {
    "name": "ipython",
    "version": 3
   },
   "file_extension": ".py",
   "mimetype": "text/x-python",
   "name": "python",
   "nbconvert_exporter": "python",
   "pygments_lexer": "ipython3",
   "version": "3.5.1"
  }
 },
 "nbformat": 4,
 "nbformat_minor": 0
}
