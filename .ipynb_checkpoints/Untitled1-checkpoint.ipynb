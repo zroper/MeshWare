{
 "cells": [
  {
   "cell_type": "code",
   "execution_count": 88,
   "metadata": {
    "collapsed": false
   },
   "outputs": [],
   "source": [
    "numb_tasks = 6\n",
    "numb_subtasks = 1\n",
    "rowloc = -1\n",
    "columnloc = 0\n",
    "subtaskbuttonsgrid = {}\n",
    "taskbuttonspack = {}\n",
    "verb_dict = {'invest':{'TSLA',\n",
    "                       'BTC'}, \n",
    "             'run':{'Tues',\n",
    "                    '5 miles'},\n",
    "             'write':{'abstract': {'300 words', \n",
    "                                   'Wed'},\n",
    "                      'manuscript':{'methods',\n",
    "                                    'intro',\n",
    "                                    'results',\n",
    "                                    'discussion'}},\n",
    "             'code':{'experiment',\n",
    "                     'button factory'},\n",
    "             'eat':{'buy': {'eggs',\n",
    "                            'milk'},\n",
    "                    'cook':{'ziti', \n",
    "                            'steaks'}},\n",
    "             'play':{'ukulele',\n",
    "                     'heros'}}\n",
    "task_list = list(verb_dict.keys())\n",
    "#subtask_dict = dict(verb_dict.values())\n",
    "#subtask_list = list(subtask_dict.keys())\n",
    "for x in task_list:\n",
    "    taskbuttonspack['{0}'.format(x)]={'fill': 'X'}\n",
    "    subtask_dict = verb_dict[x]\n",
    "    #subtask_dict = dict(verb_dict.values())\n",
    "    #subtask_list = list(subtask_dict.keys())\n",
    "    rowloc = rowloc + 1\n",
    "    for z in subtask_dict:\n",
    "        subtaskbuttonsgrid['{0}'.format(rowloc)]={'sticky': 'W+E+N+S', 'row': rowloc, 'column': columnloc, 'padx': 1, 'pady': 1}\n",
    "        columnloc = columnloc + 1"
   ]
  },
  {
   "cell_type": "code",
   "execution_count": 80,
   "metadata": {
    "collapsed": false
   },
   "outputs": [],
   "source": [
    "task_list = verb_dict.keys()"
   ]
  },
  {
   "cell_type": "code",
   "execution_count": 82,
   "metadata": {
    "collapsed": false
   },
   "outputs": [
    {
     "data": {
      "text/plain": [
       "{'buy': {'eggs', 'milk'}, 'cook': {'steaks', 'ziti'}}"
      ]
     },
     "execution_count": 82,
     "metadata": {},
     "output_type": "execute_result"
    }
   ],
   "source": [
    "for x in task_list:\n",
    "    subtask_dict = verb_dict[x]\n",
    "subtask_dict"
   ]
  },
  {
   "cell_type": "code",
   "execution_count": 45,
   "metadata": {
    "collapsed": true
   },
   "outputs": [],
   "source": [
    "subtask_dict = verb_dict.values()"
   ]
  },
  {
   "cell_type": "code",
   "execution_count": 55,
   "metadata": {
    "collapsed": false
   },
   "outputs": [
    {
     "data": {
      "text/plain": [
       "{'button factory', 'experiment'}"
      ]
     },
     "execution_count": 55,
     "metadata": {},
     "output_type": "execute_result"
    }
   ],
   "source": [
    "verb_dict['code']"
   ]
  },
  {
   "cell_type": "code",
   "execution_count": 86,
   "metadata": {
    "collapsed": false
   },
   "outputs": [],
   "source": [
    "for x in task_list:\n",
    "    subtask_dict = verb_dict[x]\n",
    "    #subtask_list = list(subtask_dict.keys())"
   ]
  },
  {
   "cell_type": "code",
   "execution_count": 81,
   "metadata": {
    "collapsed": false
   },
   "outputs": [
    {
     "data": {
      "text/plain": [
       "dict_keys(['run', 'code', 'play', 'write', 'invest', 'eat'])"
      ]
     },
     "execution_count": 81,
     "metadata": {},
     "output_type": "execute_result"
    }
   ],
   "source": [
    "task_list"
   ]
  },
  {
   "cell_type": "code",
   "execution_count": 87,
   "metadata": {
    "collapsed": false
   },
   "outputs": [
    {
     "data": {
      "text/plain": [
       "{'buy': {'eggs', 'milk'}, 'cook': {'steaks', 'ziti'}}"
      ]
     },
     "execution_count": 87,
     "metadata": {},
     "output_type": "execute_result"
    }
   ],
   "source": [
    "subtask_dict"
   ]
  },
  {
   "cell_type": "code",
   "execution_count": null,
   "metadata": {
    "collapsed": true
   },
   "outputs": [],
   "source": []
  }
 ],
 "metadata": {
  "kernelspec": {
   "display_name": "Python 3",
   "language": "python",
   "name": "python3"
  },
  "language_info": {
   "codemirror_mode": {
    "name": "ipython",
    "version": 3
   },
   "file_extension": ".py",
   "mimetype": "text/x-python",
   "name": "python",
   "nbconvert_exporter": "python",
   "pygments_lexer": "ipython3",
   "version": "3.5.1"
  }
 },
 "nbformat": 4,
 "nbformat_minor": 0
}
