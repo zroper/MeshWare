{
 "cells": [
  {
   "cell_type": "code",
   "execution_count": 16,
   "metadata": {
    "collapsed": true
   },
   "outputs": [],
   "source": [
    "numb_tasks = 6\n",
    "numb_subtasks = 1\n",
    "rowloc = -1\n",
    "columnloc = 0\n",
    "subtaskbuttonsgrid = {}\n",
    "taskbuttonspack = {}\n",
    "verb_dict = {'invest':{'TSLA',\n",
    "                       'BTC'}, \n",
    "             'run':{'Tues',\n",
    "                    '5 miles'},\n",
    "             'write':{'abstract': {'300 words', \n",
    "                                   'Wed'},\n",
    "                      'manuscript':{'methods',\n",
    "                                    'intro',\n",
    "                                    'results',\n",
    "                                    'discussion'}},\n",
    "             'code':{'experiment',\n",
    "                     'button factory'},\n",
    "             'eat':{'buy': {'eggs',\n",
    "                            'milk'},\n",
    "                    'cook':{'ziti', \n",
    "                            'steaks'}},\n",
    "             'play':{'ukulele',\n",
    "                     'heros'}}\n",
    "task_list = list(verb_dict.keys())\n",
    "for x in task_list:\n",
    "    taskbuttonspack['{0}'.format(x)]={'fill': 'X'}\n",
    "    subtask_dict = verb_dict[x]\n",
    "    rowloc = rowloc + 1\n",
    "    columnloc = 0\n",
    "    for z in subtask_dict:\n",
    "        subtaskbuttonsgrid['{0}'.format(z)]={'sticky': 'W+E+N+S', 'row': rowloc, 'column': columnloc, 'padx': 1, 'pady': 1}\n",
    "        columnloc = columnloc + 1"
   ]
  },
  {
   "cell_type": "code",
   "execution_count": 2,
   "metadata": {
    "collapsed": false
   },
   "outputs": [
    {
     "data": {
      "text/plain": [
       "{'code': {'fill': 'X'},\n",
       " 'eat': {'fill': 'X'},\n",
       " 'invest': {'fill': 'X'},\n",
       " 'play': {'fill': 'X'},\n",
       " 'run': {'fill': 'X'},\n",
       " 'write': {'fill': 'X'}}"
      ]
     },
     "execution_count": 2,
     "metadata": {},
     "output_type": "execute_result"
    }
   ],
   "source": [
    "taskbuttonspack"
   ]
  },
  {
   "cell_type": "code",
   "execution_count": 17,
   "metadata": {
    "collapsed": false
   },
   "outputs": [
    {
     "name": "stdout",
     "output_type": "stream",
     "text": [
      "buy {'row': 3, 'column': 0, 'sticky': 'W+E+N+S', 'padx': 1, 'pady': 1}\n",
      "Tues {'row': 0, 'column': 0, 'sticky': 'W+E+N+S', 'padx': 1, 'pady': 1}\n",
      "button factory {'row': 1, 'column': 0, 'sticky': 'W+E+N+S', 'padx': 1, 'pady': 1}\n",
      "BTC {'row': 4, 'column': 0, 'sticky': 'W+E+N+S', 'padx': 1, 'pady': 1}\n",
      "abstract {'row': 2, 'column': 0, 'sticky': 'W+E+N+S', 'padx': 1, 'pady': 1}\n",
      "heros {'row': 5, 'column': 0, 'sticky': 'W+E+N+S', 'padx': 1, 'pady': 1}\n",
      "TSLA {'row': 4, 'column': 1, 'sticky': 'W+E+N+S', 'padx': 1, 'pady': 1}\n",
      "cook {'row': 3, 'column': 1, 'sticky': 'W+E+N+S', 'padx': 1, 'pady': 1}\n",
      "ukulele {'row': 5, 'column': 1, 'sticky': 'W+E+N+S', 'padx': 1, 'pady': 1}\n",
      "5 miles {'row': 0, 'column': 1, 'sticky': 'W+E+N+S', 'padx': 1, 'pady': 1}\n",
      "experiment {'row': 1, 'column': 1, 'sticky': 'W+E+N+S', 'padx': 1, 'pady': 1}\n",
      "manuscript {'row': 2, 'column': 1, 'sticky': 'W+E+N+S', 'padx': 1, 'pady': 1}\n"
     ]
    }
   ],
   "source": [
    "for x, y in subtaskbuttonsgrid.items():\n",
    "    print(x,y)"
   ]
  },
  {
   "cell_type": "code",
   "execution_count": null,
   "metadata": {
    "collapsed": true
   },
   "outputs": [],
   "source": []
  }
 ],
 "metadata": {
  "kernelspec": {
   "display_name": "Python 3",
   "language": "python",
   "name": "python3"
  },
  "language_info": {
   "codemirror_mode": {
    "name": "ipython",
    "version": 3
   },
   "file_extension": ".py",
   "mimetype": "text/x-python",
   "name": "python",
   "nbconvert_exporter": "python",
   "pygments_lexer": "ipython3",
   "version": "3.5.1"
  }
 },
 "nbformat": 4,
 "nbformat_minor": 0
}
